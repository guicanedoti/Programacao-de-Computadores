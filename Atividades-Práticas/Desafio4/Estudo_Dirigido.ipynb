{
  "nbformat": 4,
  "nbformat_minor": 0,
  "metadata": {
    "colab": {
      "provenance": [],
      "include_colab_link": true
    },
    "kernelspec": {
      "name": "python3",
      "display_name": "Python 3"
    },
    "language_info": {
      "name": "python"
    }
  },
  "cells": [
    {
      "cell_type": "markdown",
      "metadata": {
        "id": "view-in-github",
        "colab_type": "text"
      },
      "source": [
        "<a href=\"https://colab.research.google.com/github/guicanedoti/Programacao-de-Computadores/blob/main/Estudo_Dirigido.ipynb\" target=\"_parent\"><img src=\"https://colab.research.google.com/assets/colab-badge.svg\" alt=\"Open In Colab\"/></a>"
      ]
    },
    {
      "cell_type": "code",
      "execution_count": null,
      "metadata": {
        "id": "R4RO2dRc1HxS"
      },
      "outputs": [],
      "source": []
    },
    {
      "cell_type": "markdown",
      "source": [
        "SEÇÃO 1 – ESTRUTURA SEQUENCIAL (p. 104)\n",
        "\n",
        "**Conceito:**\n",
        "A estrutura sequencial é a mais simples entre as estruturas de controle. Ela executa as instruções uma após a outra, na ordem em que foram escritas, sem desvios de fluxo ou repetições .\n",
        "\n",
        "**Exemplo Prático:**\n",
        "\n",
        "Atividade: Criar um programa que, solicite dois números do usuário, calcule a soma e exiba o resultado."
      ],
      "metadata": {
        "id": "KHRaGDxZ1g8G"
      }
    },
    {
      "cell_type": "code",
      "source": [
        "numero1 = float(input(\"Digite o primeiro número: \"))\n",
        "numero2 = float(input(\"Digite o segundo número: \"))\n",
        "soma = numero1 + numero2\n",
        "print(\"A soma é:\", soma)\n"
      ],
      "metadata": {
        "id": "7kqpR9ur1mCx",
        "colab": {
          "base_uri": "https://localhost:8080/"
        },
        "outputId": "4f9f5180-6dc8-4223-e6eb-a4cb6fbfb841"
      },
      "execution_count": 1,
      "outputs": [
        {
          "output_type": "stream",
          "name": "stdout",
          "text": [
            "Digite o primeiro número: 12\n",
            "Digite o segundo número: 14\n",
            "A soma é: 26.0\n"
          ]
        }
      ]
    },
    {
      "cell_type": "markdown",
      "source": [
        "SEÇÃO 2 – ESTRUTURAS DE DECISÃO (p. 114)\n",
        "\n",
        "**Conceito:**\n",
        "Estruturas de decisão permitem que o fluxo do programa siga caminhos diferentes com base em condições lógicas. As palavras-chave principais são if, else e elif .\n",
        "\n",
        "**Exemplo Prático:**\n",
        "\n",
        "Atividade: Criar um programa que solicite a idade do usuário, verifique se é maior ou menor de idade."
      ],
      "metadata": {
        "id": "oDQY-JLa1qPS"
      }
    },
    {
      "cell_type": "code",
      "source": [
        "idade = int(input(\"Digite sua idade: \"))\n",
        "if idade == 18:\n",
        "    print(\"Você tem exatamente 18 anos\")\n",
        "elif idade > 18:\n",
        "    print(\"Você é maior de idade\")\n",
        "else:\n",
        "    print(\"Você é menor de idade\")\n"
      ],
      "metadata": {
        "id": "AqyI9N841yCD",
        "colab": {
          "base_uri": "https://localhost:8080/"
        },
        "outputId": "07920e97-27f6-46e5-c31d-e3b8090cb291"
      },
      "execution_count": 2,
      "outputs": [
        {
          "output_type": "stream",
          "name": "stdout",
          "text": [
            "Digite sua idade: 15\n",
            "Você é menor de idade\n"
          ]
        }
      ]
    },
    {
      "cell_type": "markdown",
      "source": [
        "SEÇÃO 3 – ESTRUTURAS DE REPETIÇÃO (p. 135)\n",
        "\n",
        "**Conceito:**\n",
        "Estruturas de repetição executam comandos várias vezes, enquanto uma condição for verdadeira (while) ou para um número fixo de vezes (for) .\n",
        "\n",
        "**Exemplo WHILE:**\n",
        "\n",
        "Atividade: Imprimir números de 1 a 5 com while."
      ],
      "metadata": {
        "id": "6dnWTh_p103d"
      }
    },
    {
      "cell_type": "code",
      "source": [
        "contador = 1\n",
        "while contador <= 5:\n",
        "    print(contador)\n",
        "    contador += 1\n"
      ],
      "metadata": {
        "id": "cTgwZByi16KG",
        "colab": {
          "base_uri": "https://localhost:8080/"
        },
        "outputId": "ee88b11b-5554-4299-bfd7-dd289045aacd"
      },
      "execution_count": 3,
      "outputs": [
        {
          "output_type": "stream",
          "name": "stdout",
          "text": [
            "1\n",
            "2\n",
            "3\n",
            "4\n",
            "5\n"
          ]
        }
      ]
    },
    {
      "cell_type": "markdown",
      "source": [
        "**Exemplo FOR:**\n",
        "\n",
        "Atividade: Imprimir números de 1 a 5 com for."
      ],
      "metadata": {
        "id": "28zkW0I6185e"
      }
    },
    {
      "cell_type": "code",
      "source": [
        "for i in range(1, 6):\n",
        "    print(i)\n"
      ],
      "metadata": {
        "id": "LTltlPzs1_xa",
        "colab": {
          "base_uri": "https://localhost:8080/"
        },
        "outputId": "f9076031-0965-45d4-88d1-321ecbd9e066"
      },
      "execution_count": 4,
      "outputs": [
        {
          "output_type": "stream",
          "name": "stdout",
          "text": [
            "1\n",
            "2\n",
            "3\n",
            "4\n",
            "5\n"
          ]
        }
      ]
    },
    {
      "cell_type": "markdown",
      "source": [
        "Fonte de dados: https://educapes.capes.gov.br/bitstream/capes/176223/2/Algoritmos%20e%20Programa%C3%A7%C3%A3o%20I%20EBOOK.pdf-"
      ],
      "metadata": {
        "id": "4Im3MBwG2C4q"
      }
    }
  ]
}